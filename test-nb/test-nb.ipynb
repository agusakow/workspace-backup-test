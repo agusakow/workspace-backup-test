{
 "cells":[
  {
   "cell_type":"code",
   "source":[
    "import numpy as np\n",
    "            \n",
    "data = np.random.randn(100, 1000)\n",
    "\n",
    "data"
   ],
   "execution_count":4,
   "outputs":[
    {
     "data":{
      "text\/html":[
       "<pre>array([[ 0.1209685 ,  0.17654519, -1.83070068, ...,  0.7959724 ,\n",
       "         1.11304345, -0.91175359],\n",
       "       [ 0.63741686,  1.09891798, -0.84877961, ...,  1.33713823,\n",
       "         0.59275328,  0.479948  ],\n",
       "       [-0.05363484,  0.40517062,  0.81697187, ..., -0.1339419 ,\n",
       "         0.70117691,  1.71637222],\n",
       "       ...,\n",
       "       [-0.32389299,  0.34214088, -1.08091745, ..., -0.65557204,\n",
       "        -0.29450089,  0.46945367],\n",
       "       [-2.25382017,  1.36177364,  0.11499027, ...,  0.37443359,\n",
       "        -0.52682624,  0.05045074],\n",
       "       [-1.60379983, -1.49397596,  0.6168167 , ..., -1.43644635,\n",
       "         0.59670427, -0.95245715]])<\/pre>"
      ]
     },
     "metadata":{},
     "output_type":"display_data"
    }
   ],
   "metadata":{
    "datalore":{
     "node_id":"c1SB90L0VMiL1sVRb1y4JQ",
     "type":"CODE",
     "hide_input_from_viewers":true,
     "hide_output_from_viewers":true
    }
   }
  }
 ],
 "metadata":{
  "kernelspec":{
   "display_name":"Python",
   "language":"python",
   "name":"python"
  },
  "datalore":{
   "computation_mode":"JUPYTER",
   "packages":[],
   "report_row_ids":[],
   "report_tabs":[],
   "version":4
  }
 },
 "nbformat":4,
 "nbformat_minor":4
}